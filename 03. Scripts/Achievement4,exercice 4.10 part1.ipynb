{
 "cells": [
  {
   "cell_type": "markdown",
   "id": "f0da2e5a-b1e0-48c2-9798-09dcb6ba67e8",
   "metadata": {},
   "source": [
    "# 4.10 Coding Etiquetee & Excel Reporting "
   ]
  },
  {
   "cell_type": "code",
   "execution_count": 1,
   "id": "98683c45-895f-4366-8295-dd620f0e0a5f",
   "metadata": {},
   "outputs": [],
   "source": [
    "# import libraries \n",
    "import pandas as pd\n",
    "import numpy as np\n",
    "import os\n",
    "import matplotlib.pyplot as plt\n",
    "import seaborn as sns\n",
    "import scipy"
   ]
  },
  {
   "cell_type": "markdown",
   "id": "54c19405-dbc1-49c2-bb4a-71ee39248620",
   "metadata": {},
   "source": [
    "# 1. Import Data Set"
   ]
  },
  {
   "cell_type": "code",
   "execution_count": 2,
   "id": "17cb3885-fecd-455b-93a9-c1e3e988ac5e",
   "metadata": {},
   "outputs": [],
   "source": [
    "#reminding phyton the parent folder path\n",
    "path = r'C:\\Users\\juank\\Documents\\04.2024 Instacar Basket Analysis'"
   ]
  },
  {
   "cell_type": "code",
   "execution_count": 4,
   "id": "ec27de41-3900-45ce-8322-9654f84e1676",
   "metadata": {},
   "outputs": [],
   "source": [
    "# import data set\n",
    "df_merged = pd.read_pickle(os.path.join(path, '02. Data', 'Prepared Data', 'ords_products_customers_merged.pkl'))"
   ]
  },
  {
   "cell_type": "markdown",
   "id": "831a3962-4563-4a5e-a72c-7c8ff4a0cfda",
   "metadata": {},
   "source": [
    "# 2. Review Security Implications"
   ]
  },
  {
   "cell_type": "code",
   "execution_count": 5,
   "id": "45726a0c-e47d-4e8a-bc6f-e70ff0d3dfbc",
   "metadata": {},
   "outputs": [
    {
     "data": {
      "text/plain": [
       "Index(['Unnamed: 0', 'product_id', 'product_name', 'aisle_id', 'department_id',\n",
       "       'prices', 'order_id', 'user_id', 'order_number', 'orders_day_of_week',\n",
       "       'order_hour_of_day', 'days_since_prior_order', 'add_to_cart_order',\n",
       "       'reordered', 'price_range_loc', 'busiest_day', 'busiest_days',\n",
       "       'busiest_period_of_day', 'max_order', 'loyalty_flag',\n",
       "       'avg_product_price', 'spender_flag', 'users_frequency',\n",
       "       'order_frequency', 'first_name', 'surname', 'gender', 'State', 'age',\n",
       "       'date_joined', 'number_dependant', 'family_status', 'income', '_merge'],\n",
       "      dtype='object')"
      ]
     },
     "execution_count": 5,
     "metadata": {},
     "output_type": "execute_result"
    }
   ],
   "source": [
    "# Check column headers\n",
    "df_merged.columns"
   ]
  },
  {
   "cell_type": "code",
   "execution_count": null,
   "id": "8d9a15b2-265e-48f8-b0c2-f4d2a0263f39",
   "metadata": {},
   "outputs": [],
   "source": [
    "#The Identifiable Information (PII) are those related to the customer: first_name, surname, gender,age,number_dependant,family_status and income."
   ]
  },
  {
   "cell_type": "markdown",
   "id": "0e2c8a8b-81c1-4293-b634-03fbea426d26",
   "metadata": {},
   "source": [
    "# 3.  Create a regional segmentation of the data and compare customer behavior"
   ]
  },
  {
   "cell_type": "code",
   "execution_count": 6,
   "id": "ee1515d9-d135-471f-8db9-040cb02889e6",
   "metadata": {},
   "outputs": [],
   "source": [
    "# Create a column of regions based on states\n",
    "df_merged.loc[df_merged['State'].isin(['Wisconsin','Michigan','Illinois','Indiana','Ohio','North Dakota','South Dakota','Nebraska',\n",
    "'Kansas','Minnesota','Iowa','Missouri']),'region'] = 'midwest'"
   ]
  },
  {
   "cell_type": "code",
   "execution_count": 7,
   "id": "46891add-21b9-48c7-86d0-aea819149dd8",
   "metadata": {},
   "outputs": [],
   "source": [
    "df_merged.loc[df_merged['State'].isin(['Delaware','Maryland','District of Columbia','Virginia','West Virginia','North Carolina','South Carolina','Georgia',\n",
    "'Florida','Kentucky','Tennessee','Mississippi','Alabama','Oklahoma','Texas','Arkansas','Louisiana']),'region'] = 'south'"
   ]
  },
  {
   "cell_type": "code",
   "execution_count": 8,
   "id": "66c0f5c8-4512-4878-908a-d7b89e5a3311",
   "metadata": {},
   "outputs": [],
   "source": [
    "df_merged.loc[df_merged['State'].isin(['Maine','New Hampshire','Vermont','Massachusetts','Rhode Island','Connecticut','New York','Pennsylvania',\n",
    "'New Jersey']),'region'] = 'northeast'"
   ]
  },
  {
   "cell_type": "code",
   "execution_count": 9,
   "id": "d405018e-13ec-43f8-a240-679f832a1741",
   "metadata": {},
   "outputs": [],
   "source": [
    "df_merged.loc[df_merged['State'].isin(['Idaho','Montana','Wyoming','Nevada','Utah','Colorado','Arizona','New Mexico', 'Alaska','Washington','Oregon',\n",
    "'California','Alaska','Washington','Oregon','California','Hawaii']),'region'] = 'west'"
   ]
  },
  {
   "cell_type": "code",
   "execution_count": 10,
   "id": "ecb57364-6385-48a8-ad8c-f35c076c8e67",
   "metadata": {},
   "outputs": [
    {
     "data": {
      "text/html": [
       "<div>\n",
       "<style scoped>\n",
       "    .dataframe tbody tr th:only-of-type {\n",
       "        vertical-align: middle;\n",
       "    }\n",
       "\n",
       "    .dataframe tbody tr th {\n",
       "        vertical-align: top;\n",
       "    }\n",
       "\n",
       "    .dataframe thead th {\n",
       "        text-align: right;\n",
       "    }\n",
       "</style>\n",
       "<table border=\"1\" class=\"dataframe\">\n",
       "  <thead>\n",
       "    <tr style=\"text-align: right;\">\n",
       "      <th></th>\n",
       "      <th>region</th>\n",
       "      <th>avg_product_price</th>\n",
       "    </tr>\n",
       "  </thead>\n",
       "  <tbody>\n",
       "    <tr>\n",
       "      <th>0</th>\n",
       "      <td>midwest</td>\n",
       "      <td>12.715483</td>\n",
       "    </tr>\n",
       "    <tr>\n",
       "      <th>1</th>\n",
       "      <td>northeast</td>\n",
       "      <td>11.554997</td>\n",
       "    </tr>\n",
       "    <tr>\n",
       "      <th>2</th>\n",
       "      <td>south</td>\n",
       "      <td>12.195577</td>\n",
       "    </tr>\n",
       "    <tr>\n",
       "      <th>3</th>\n",
       "      <td>west</td>\n",
       "      <td>11.319834</td>\n",
       "    </tr>\n",
       "  </tbody>\n",
       "</table>\n",
       "</div>"
      ],
      "text/plain": [
       "      region  avg_product_price\n",
       "0    midwest          12.715483\n",
       "1  northeast          11.554997\n",
       "2      south          12.195577\n",
       "3       west          11.319834"
      ]
     },
     "execution_count": 10,
     "metadata": {},
     "output_type": "execute_result"
    }
   ],
   "source": [
    "# determine difference in spending habits\n",
    "df_spend_region = df_merged.groupby(['region'])['avg_product_price'].mean()\n",
    "df_spend_region.reset_index()\n"
   ]
  },
  {
   "cell_type": "markdown",
   "id": "a9afea1f-263c-4e84-9a70-717b3158f0c5",
   "metadata": {},
   "source": [
    "# 4. Create an exclusion flag for low-activity customers (customers with less than 5 orders) and exclude them from the data."
   ]
  },
  {
   "cell_type": "code",
   "execution_count": 11,
   "id": "6dd46dbc-d506-420c-b5ff-76ddee2cbfd1",
   "metadata": {},
   "outputs": [],
   "source": [
    "# create exclusion flag column\n",
    "df_merged.loc[df_merged['max_order']>=5, 'exclusion_flag'] = 'Not Excluded'\n",
    "df_merged.loc[df_merged['max_order']<5, 'exclusion_flag'] = 'Excluded'"
   ]
  },
  {
   "cell_type": "code",
   "execution_count": 12,
   "id": "3d9c6f33-01b2-414d-8a3f-2f8fb896f2d2",
   "metadata": {},
   "outputs": [
    {
     "data": {
      "text/plain": [
       "exclusion_flag\n",
       "Not Excluded    30964564\n",
       "Excluded         1440295\n",
       "Name: count, dtype: int64"
      ]
     },
     "execution_count": 12,
     "metadata": {},
     "output_type": "execute_result"
    }
   ],
   "source": [
    "df_merged['exclusion_flag'].value_counts()"
   ]
  },
  {
   "cell_type": "code",
   "execution_count": 13,
   "id": "b080afd2-9cfe-42e5-a158-0f499138a9ea",
   "metadata": {},
   "outputs": [],
   "source": [
    "# Generate DataFrame containing only the data that is not excluded.\n",
    "df_merged_not_excluded =  df_merged[df_merged['exclusion_flag']=='Not Excluded']"
   ]
  },
  {
   "cell_type": "code",
   "execution_count": 14,
   "id": "5ca22506-434e-4f87-9cad-ab73a9f6d6ec",
   "metadata": {},
   "outputs": [],
   "source": [
    "df_merged_excluded = df_merged[df_merged['exclusion_flag']=='Excluded']"
   ]
  },
  {
   "cell_type": "code",
   "execution_count": 15,
   "id": "d51201ba-f9ae-4061-9c87-97f3d0d52de3",
   "metadata": {},
   "outputs": [
    {
     "data": {
      "text/plain": [
       "True"
      ]
     },
     "execution_count": 15,
     "metadata": {},
     "output_type": "execute_result"
    }
   ],
   "source": [
    "len(df_merged_excluded) + len (df_merged_not_excluded) == len(df_merged)"
   ]
  },
  {
   "cell_type": "code",
   "execution_count": 16,
   "id": "00784488-c3fd-44cb-b8af-6d1359e16c2e",
   "metadata": {},
   "outputs": [],
   "source": [
    "# Export new dataframe\n",
    "df_merged_not_excluded.to_pickle(os.path.join(path,'02. Data','Prepared Data','orders_products_not_excluded.pkl'))"
   ]
  },
  {
   "cell_type": "markdown",
   "id": "0076e20d-65a5-486c-ad11-59d7a40d1cfd",
   "metadata": {},
   "source": [
    "# 5. Create a profiling variable based on age, income, certain goods in the “department_id” column, and number of dependents."
   ]
  },
  {
   "cell_type": "code",
   "execution_count": 17,
   "id": "deabe732-d997-445f-97bb-859c1b622386",
   "metadata": {},
   "outputs": [
    {
     "name": "stderr",
     "output_type": "stream",
     "text": [
      "C:\\Users\\juank\\AppData\\Local\\Temp\\ipykernel_8660\\796391606.py:2: SettingWithCopyWarning: \n",
      "A value is trying to be set on a copy of a slice from a DataFrame.\n",
      "Try using .loc[row_indexer,col_indexer] = value instead\n",
      "\n",
      "See the caveats in the documentation: https://pandas.pydata.org/pandas-docs/stable/user_guide/indexing.html#returning-a-view-versus-a-copy\n",
      "  df_merged_not_excluded.loc[df_merged_not_excluded['age']< 30,'age_type'] = 'young'\n"
     ]
    }
   ],
   "source": [
    "# Establishing age brackets\n",
    "df_merged_not_excluded.loc[df_merged_not_excluded['age']< 30,'age_type'] = 'young'\n",
    "df_merged_not_excluded.loc[(df_merged_not_excluded['age'] >= 30) & (df_merged_not_excluded['age']< 60),'age_type'] = 'adult'\n",
    "df_merged_not_excluded.loc[df_merged_not_excluded['age']>= 60,'age_type'] = 'senior'"
   ]
  },
  {
   "cell_type": "code",
   "execution_count": 18,
   "id": "1d464d63-92fb-42b5-a38e-4859dcf36e7c",
   "metadata": {},
   "outputs": [
    {
     "name": "stderr",
     "output_type": "stream",
     "text": [
      "C:\\Users\\juank\\AppData\\Local\\Temp\\ipykernel_8660\\3361465785.py:2: SettingWithCopyWarning: \n",
      "A value is trying to be set on a copy of a slice from a DataFrame.\n",
      "Try using .loc[row_indexer,col_indexer] = value instead\n",
      "\n",
      "See the caveats in the documentation: https://pandas.pydata.org/pandas-docs/stable/user_guide/indexing.html#returning-a-view-versus-a-copy\n",
      "  df_merged_not_excluded.loc[df_merged_not_excluded['income'] < 50000,'income_type'] = 'Low'\n"
     ]
    }
   ],
   "source": [
    "# Establishing income brackets\n",
    "df_merged_not_excluded.loc[df_merged_not_excluded['income'] < 50000,'income_type'] = 'Low'\n",
    "df_merged_not_excluded.loc[(df_merged_not_excluded['income'] >= 50000) & (df_merged_not_excluded['income']< 100000),'income_type'] = 'Middle'\n",
    "df_merged_not_excluded.loc[df_merged_not_excluded['income']>= 100000,'income_type'] = 'High'"
   ]
  },
  {
   "cell_type": "code",
   "execution_count": null,
   "id": "e45c9973-6ad1-492a-94bc-8e9cfa1fe5db",
   "metadata": {},
   "outputs": [],
   "source": [
    "# Establishing number_dependants brackets"
   ]
  },
  {
   "cell_type": "code",
   "execution_count": 19,
   "id": "76c411a1-6483-4b13-a600-b2bd3629e2d3",
   "metadata": {},
   "outputs": [
    {
     "name": "stderr",
     "output_type": "stream",
     "text": [
      "C:\\Users\\juank\\AppData\\Local\\Temp\\ipykernel_8660\\685535342.py:1: SettingWithCopyWarning: \n",
      "A value is trying to be set on a copy of a slice from a DataFrame.\n",
      "Try using .loc[row_indexer,col_indexer] = value instead\n",
      "\n",
      "See the caveats in the documentation: https://pandas.pydata.org/pandas-docs/stable/user_guide/indexing.html#returning-a-view-versus-a-copy\n",
      "  df_merged_not_excluded.loc[df_merged_not_excluded['number_dependant'] == 0,'number_dependant_type'] = 'no dependants'\n"
     ]
    }
   ],
   "source": [
    "# Establishing number_dependants brackets\n",
    "df_merged_not_excluded.loc[df_merged_not_excluded['number_dependant'] == 0,'number_dependant_type'] = 'no dependants'\n",
    "df_merged_not_excluded.loc[df_merged_not_excluded['number_dependant'] >= 1,'number_dependant_type'] = 'dependant'\n"
   ]
  },
  {
   "cell_type": "markdown",
   "id": "100e626b-a8f0-42e5-995d-66367e29f11a",
   "metadata": {},
   "source": [
    "#6. Create an appropriate visualization to show the distribution of profiles."
   ]
  },
  {
   "cell_type": "code",
   "execution_count": 20,
   "id": "488bb327-8573-43e9-b19a-081df96f50cc",
   "metadata": {},
   "outputs": [
    {
     "data": {
      "text/plain": [
       "Text(0, 0.5, 'Number of Customers')"
      ]
     },
     "execution_count": 20,
     "metadata": {},
     "output_type": "execute_result"
    },
    {
     "data": {
      "image/png": "[encoded data removed]",
      "text/plain": [
       "<Figure size 640x480 with 1 Axes>"
      ]
     },
     "metadata": {},
     "output_type": "display_data"
    }
   ],
   "source": [
    "#Create a graph.\n",
    "bar = df_merged_not_excluded['age_type'].value_counts().plot.bar()\n",
    "bar.set_title('Age Distribution')\n",
    "bar.set_xlabel('Age')\n",
    "bar.set_ylabel('Number of Customers')"
   ]
  },
  {
   "cell_type": "code",
   "execution_count": 21,
   "id": "b0463952-4f6e-42d5-9b68-dc5ba4cee6ca",
   "metadata": {},
   "outputs": [],
   "source": [
    "# Export bar chart\n",
    "bar.figure.savefig(os.path.join(path, '04. Analysis','Visualizations', 'age_distribution.png'))"
   ]
  },
  {
   "cell_type": "code",
   "execution_count": 22,
   "id": "bdc7b085-a48f-494a-b244-5ecfc07b2ee8",
   "metadata": {},
   "outputs": [
    {
     "data": {
      "text/plain": [
       "Text(0, 0.5, 'Number of Customers')"
      ]
     },
     "execution_count": 22,
     "metadata": {},
     "output_type": "execute_result"
    },
    {
     "data": {
      "image/png": "[encoded data removed]",
      "text/plain": [
       "<Figure size 640x480 with 1 Axes>"
      ]
     },
     "metadata": {},
     "output_type": "display_data"
    }
   ],
   "source": [
    "# Create a graph.\n",
    "bar2 = df_merged_not_excluded['income_type'].value_counts().plot.bar()\n",
    "bar2.set_title('Income Distribution')\n",
    "bar2.set_xlabel('Income')\n",
    "bar2.set_ylabel('Number of Customers')"
   ]
  },
  {
   "cell_type": "code",
   "execution_count": 23,
   "id": "85e7598e-1d5f-44e5-8722-20b5a39d4814",
   "metadata": {},
   "outputs": [],
   "source": [
    "# Export bar chart\n",
    "bar2.figure.savefig(os.path.join(path, '04. Analysis','Visualizations', 'income_distribution.png'))"
   ]
  },
  {
   "cell_type": "code",
   "execution_count": 24,
   "id": "689fa7da-b599-477f-b5ec-0b51de9ce3b4",
   "metadata": {},
   "outputs": [
    {
     "data": {
      "text/plain": [
       "Text(0.5, 1.0, 'Distribution of Number of Dependents')"
      ]
     },
     "execution_count": 24,
     "metadata": {},
     "output_type": "execute_result"
    },
    {
     "data": {
      "image/png": "[encoded data removed]",
      "text/plain": [
       "<Figure size 640x480 with 1 Axes>"
      ]
     },
     "metadata": {},
     "output_type": "display_data"
    }
   ],
   "source": [
    "#Create a graph\n",
    "dependant_counts = df_merged_not_excluded['number_dependant_type'].value_counts()\n",
    "colors = ['skyblue', 'lightcoral']\n",
    "plt.pie(dependant_counts, labels=dependant_counts.index, autopct='%1.1f%%', startangle=140, colors=colors)\n",
    "plt.title('Distribution of Number of Dependents')\n"
   ]
  },
  {
   "cell_type": "code",
   "execution_count": 25,
   "id": "385f248e-51c4-4c74-b704-a7ab6ed8a263",
   "metadata": {},
   "outputs": [
    {
     "data": {
      "text/plain": [
       "<Figure size 640x480 with 0 Axes>"
      ]
     },
     "metadata": {},
     "output_type": "display_data"
    }
   ],
   "source": [
    "#Export the pie chart\n",
    "plt.savefig(os.path.join(path, '04. Analysis', 'Visualizations', 'dependant_type.png'))"
   ]
  },
  {
   "cell_type": "code",
   "execution_count": 26,
   "id": "1aa739f7-e7ba-416f-be56-5480bb89484b",
   "metadata": {},
   "outputs": [
    {
     "data": {
      "text/html": [
       "<div>\n",
       "<style scoped>\n",
       "    .dataframe tbody tr th:only-of-type {\n",
       "        vertical-align: middle;\n",
       "    }\n",
       "\n",
       "    .dataframe tbody tr th {\n",
       "        vertical-align: top;\n",
       "    }\n",
       "\n",
       "    .dataframe thead th {\n",
       "        text-align: right;\n",
       "    }\n",
       "</style>\n",
       "<table border=\"1\" class=\"dataframe\">\n",
       "  <thead>\n",
       "    <tr style=\"text-align: right;\">\n",
       "      <th>income_type</th>\n",
       "      <th>High</th>\n",
       "      <th>Low</th>\n",
       "      <th>Middle</th>\n",
       "    </tr>\n",
       "    <tr>\n",
       "      <th>age_type</th>\n",
       "      <th></th>\n",
       "      <th></th>\n",
       "      <th></th>\n",
       "    </tr>\n",
       "  </thead>\n",
       "  <tbody>\n",
       "    <tr>\n",
       "      <th>adult</th>\n",
       "      <td>6626464</td>\n",
       "      <td>1590187</td>\n",
       "      <td>6355806</td>\n",
       "    </tr>\n",
       "    <tr>\n",
       "      <th>senior</th>\n",
       "      <td>7395718</td>\n",
       "      <td>872960</td>\n",
       "      <td>2305826</td>\n",
       "    </tr>\n",
       "    <tr>\n",
       "      <th>young</th>\n",
       "      <td>185220</td>\n",
       "      <td>899407</td>\n",
       "      <td>4732976</td>\n",
       "    </tr>\n",
       "  </tbody>\n",
       "</table>\n",
       "</div>"
      ],
      "text/plain": [
       "income_type     High      Low   Middle\n",
       "age_type                              \n",
       "adult        6626464  1590187  6355806\n",
       "senior       7395718   872960  2305826\n",
       "young         185220   899407  4732976"
      ]
     },
     "execution_count": 26,
     "metadata": {},
     "output_type": "execute_result"
    }
   ],
   "source": [
    "df_merged_not_excluded.groupby(['age_type','income_type']).size().unstack()"
   ]
  },
  {
   "cell_type": "code",
   "execution_count": 27,
   "id": "d4fa62e1-2244-41da-9684-fdfef3e5c4cc",
   "metadata": {},
   "outputs": [
    {
     "data": {
      "image/png": "[encoded data removed]",
      "text/plain": [
       "<Figure size 640x480 with 1 Axes>"
      ]
     },
     "metadata": {},
     "output_type": "display_data"
    }
   ],
   "source": [
    "\n",
    "bar3 = df_merged_not_excluded.groupby(['age_type','income_type']).size().unstack().plot.barh(stacked=True).set_xlabel('Profile age_type and income_type')\n"
   ]
  },
  {
   "cell_type": "code",
   "execution_count": 28,
   "id": "aa5b801b-31aa-4289-b5d2-9f7e1bd31e81",
   "metadata": {},
   "outputs": [],
   "source": [
    "# export bar chart\n",
    "bar3.figure.savefig(os.path.join(path, '04. Analysis','Visualizations', 'profile age_income_type.png'))"
   ]
  },
  {
   "cell_type": "code",
   "execution_count": 29,
   "id": "d6a64596-2ec9-4107-9f3b-e2ed56a8d8c9",
   "metadata": {},
   "outputs": [
    {
     "data": {
      "text/html": [
       "<div>\n",
       "<style scoped>\n",
       "    .dataframe tbody tr th:only-of-type {\n",
       "        vertical-align: middle;\n",
       "    }\n",
       "\n",
       "    .dataframe tbody tr th {\n",
       "        vertical-align: top;\n",
       "    }\n",
       "\n",
       "    .dataframe thead th {\n",
       "        text-align: right;\n",
       "    }\n",
       "</style>\n",
       "<table border=\"1\" class=\"dataframe\">\n",
       "  <thead>\n",
       "    <tr style=\"text-align: right;\">\n",
       "      <th>income_type</th>\n",
       "      <th>High</th>\n",
       "      <th>Low</th>\n",
       "      <th>Middle</th>\n",
       "    </tr>\n",
       "    <tr>\n",
       "      <th>region</th>\n",
       "      <th></th>\n",
       "      <th></th>\n",
       "      <th></th>\n",
       "    </tr>\n",
       "  </thead>\n",
       "  <tbody>\n",
       "    <tr>\n",
       "      <th>midwest</th>\n",
       "      <td>3400093</td>\n",
       "      <td>783764</td>\n",
       "      <td>3077656</td>\n",
       "    </tr>\n",
       "    <tr>\n",
       "      <th>northeast</th>\n",
       "      <td>2516484</td>\n",
       "      <td>587137</td>\n",
       "      <td>2361064</td>\n",
       "    </tr>\n",
       "    <tr>\n",
       "      <th>south</th>\n",
       "      <td>4663945</td>\n",
       "      <td>1142572</td>\n",
       "      <td>4504622</td>\n",
       "    </tr>\n",
       "    <tr>\n",
       "      <th>west</th>\n",
       "      <td>3626880</td>\n",
       "      <td>849081</td>\n",
       "      <td>3451266</td>\n",
       "    </tr>\n",
       "  </tbody>\n",
       "</table>\n",
       "</div>"
      ],
      "text/plain": [
       "income_type     High      Low   Middle\n",
       "region                                \n",
       "midwest      3400093   783764  3077656\n",
       "northeast    2516484   587137  2361064\n",
       "south        4663945  1142572  4504622\n",
       "west         3626880   849081  3451266"
      ]
     },
     "execution_count": 29,
     "metadata": {},
     "output_type": "execute_result"
    }
   ],
   "source": [
    "df_merged_not_excluded.groupby(['region','income_type']).size().unstack()"
   ]
  },
  {
   "cell_type": "code",
   "execution_count": 30,
   "id": "f0053b81-076f-4347-81f6-4254f6444062",
   "metadata": {},
   "outputs": [
    {
     "data": {
      "image/png": "[encoded data removed]",
      "text/plain": [
       "<Figure size 640x480 with 1 Axes>"
      ]
     },
     "metadata": {},
     "output_type": "display_data"
    }
   ],
   "source": [
    "bar4 = df_merged_not_excluded.groupby(['region','income_type']).size().unstack().plot.barh(stacked = True).set_xlabel('Income type profile by region')"
   ]
  },
  {
   "cell_type": "code",
   "execution_count": 31,
   "id": "a800bd90-2852-4184-8587-390ee4155b16",
   "metadata": {},
   "outputs": [],
   "source": [
    "bar4.figure.savefig(os.path.join(path, '04. Analysis','Visualizations', 'profile income by region.png'))"
   ]
  },
  {
   "cell_type": "code",
   "execution_count": 32,
   "id": "f056dba6-87ff-4b32-a159-f2556d96b805",
   "metadata": {},
   "outputs": [
    {
     "data": {
      "text/html": [
       "<div>\n",
       "<style scoped>\n",
       "    .dataframe tbody tr th:only-of-type {\n",
       "        vertical-align: middle;\n",
       "    }\n",
       "\n",
       "    .dataframe tbody tr th {\n",
       "        vertical-align: top;\n",
       "    }\n",
       "\n",
       "    .dataframe thead th {\n",
       "        text-align: right;\n",
       "    }\n",
       "</style>\n",
       "<table border=\"1\" class=\"dataframe\">\n",
       "  <thead>\n",
       "    <tr style=\"text-align: right;\">\n",
       "      <th>spender_flag</th>\n",
       "      <th>High_spender</th>\n",
       "      <th>Low spender</th>\n",
       "    </tr>\n",
       "    <tr>\n",
       "      <th>region</th>\n",
       "      <th></th>\n",
       "      <th></th>\n",
       "    </tr>\n",
       "  </thead>\n",
       "  <tbody>\n",
       "    <tr>\n",
       "      <th>midwest</th>\n",
       "      <td>148678</td>\n",
       "      <td>7112835</td>\n",
       "    </tr>\n",
       "    <tr>\n",
       "      <th>northeast</th>\n",
       "      <td>103120</td>\n",
       "      <td>5361565</td>\n",
       "    </tr>\n",
       "    <tr>\n",
       "      <th>south</th>\n",
       "      <td>199339</td>\n",
       "      <td>10111800</td>\n",
       "    </tr>\n",
       "    <tr>\n",
       "      <th>west</th>\n",
       "      <td>152288</td>\n",
       "      <td>7774939</td>\n",
       "    </tr>\n",
       "  </tbody>\n",
       "</table>\n",
       "</div>"
      ],
      "text/plain": [
       "spender_flag  High_spender  Low spender\n",
       "region                                 \n",
       "midwest             148678      7112835\n",
       "northeast           103120      5361565\n",
       "south               199339     10111800\n",
       "west                152288      7774939"
      ]
     },
     "execution_count": 32,
     "metadata": {},
     "output_type": "execute_result"
    }
   ],
   "source": [
    "df_merged_not_excluded.groupby(['region','spender_flag']).size().unstack()"
   ]
  },
  {
   "cell_type": "code",
   "execution_count": 33,
   "id": "474344f4-2d8e-4546-af9c-423e878462e1",
   "metadata": {},
   "outputs": [
    {
     "data": {
      "image/png": "[encoded data removed]",
      "text/plain": [
       "<Figure size 640x480 with 1 Axes>"
      ]
     },
     "metadata": {},
     "output_type": "display_data"
    }
   ],
   "source": [
    "bar5 = df_merged_not_excluded.groupby(['region','spender_flag']).size().unstack().plot.barh(stacked = True).set_xlabel('spending profile')"
   ]
  },
  {
   "cell_type": "code",
   "execution_count": 34,
   "id": "709524b8-bda7-4822-b208-e88254ca851a",
   "metadata": {},
   "outputs": [],
   "source": [
    "bar5.figure.savefig(os.path.join(path, '04. Analysis','Visualizations', 'spendin profile by region.png'))"
   ]
  },
  {
   "cell_type": "code",
   "execution_count": 35,
   "id": "1b5b9d55-004a-48fc-92ed-18b7cfef7269",
   "metadata": {},
   "outputs": [
    {
     "data": {
      "text/html": [
       "<div>\n",
       "<style scoped>\n",
       "    .dataframe tbody tr th:only-of-type {\n",
       "        vertical-align: middle;\n",
       "    }\n",
       "\n",
       "    .dataframe tbody tr th {\n",
       "        vertical-align: top;\n",
       "    }\n",
       "\n",
       "    .dataframe thead th {\n",
       "        text-align: right;\n",
       "    }\n",
       "</style>\n",
       "<table border=\"1\" class=\"dataframe\">\n",
       "  <thead>\n",
       "    <tr style=\"text-align: right;\">\n",
       "      <th>age_type</th>\n",
       "      <th>adult</th>\n",
       "      <th>senior</th>\n",
       "      <th>young</th>\n",
       "    </tr>\n",
       "    <tr>\n",
       "      <th>number_dependant_type</th>\n",
       "      <th></th>\n",
       "      <th></th>\n",
       "      <th></th>\n",
       "    </tr>\n",
       "  </thead>\n",
       "  <tbody>\n",
       "    <tr>\n",
       "      <th>dependant</th>\n",
       "      <td>10925665</td>\n",
       "      <td>7929233</td>\n",
       "      <td>4369985</td>\n",
       "    </tr>\n",
       "    <tr>\n",
       "      <th>no dependants</th>\n",
       "      <td>3646792</td>\n",
       "      <td>2645271</td>\n",
       "      <td>1447618</td>\n",
       "    </tr>\n",
       "  </tbody>\n",
       "</table>\n",
       "</div>"
      ],
      "text/plain": [
       "age_type                  adult   senior    young\n",
       "number_dependant_type                            \n",
       "dependant              10925665  7929233  4369985\n",
       "no dependants           3646792  2645271  1447618"
      ]
     },
     "execution_count": 35,
     "metadata": {},
     "output_type": "execute_result"
    }
   ],
   "source": [
    "df_merged_not_excluded.groupby(['number_dependant_type','age_type']).size().unstack()"
   ]
  },
  {
   "cell_type": "code",
   "execution_count": 36,
   "id": "452d4c22-0da8-435b-8163-370182b717c9",
   "metadata": {},
   "outputs": [
    {
     "data": {
      "image/png": "[encoded data removed]",
      "text/plain": [
       "<Figure size 640x480 with 1 Axes>"
      ]
     },
     "metadata": {},
     "output_type": "display_data"
    }
   ],
   "source": [
    "bar6 = df_merged_not_excluded.groupby(['number_dependant_type','age_type']).size().unstack().plot.barh(stacked = True).set_xlabel('profile by age_type and dependant_type')"
   ]
  },
  {
   "cell_type": "code",
   "execution_count": 37,
   "id": "4754bbe8-abe6-4b48-abba-c2b6de5187ed",
   "metadata": {},
   "outputs": [],
   "source": [
    "bar6.figure.savefig(os.path.join(path, '04. Analysis','Visualizations', 'prfile by age_type and dependant_type.png'))"
   ]
  },
  {
   "cell_type": "markdown",
   "id": "e980f20c-604c-4913-8d07-9a151a74cdcc",
   "metadata": {},
   "source": [
    "# 7. Aggregate the max, mean, and min variables on a customer-profile level for usage frequency and expenditure."
   ]
  },
  {
   "cell_type": "code",
   "execution_count": 38,
   "id": "65287bb6-851d-4ff6-b999-86c1cb881d20",
   "metadata": {},
   "outputs": [
    {
     "name": "stderr",
     "output_type": "stream",
     "text": [
      "C:\\Users\\juank\\AppData\\Local\\Temp\\ipykernel_8660\\1802482426.py:1: SettingWithCopyWarning: \n",
      "A value is trying to be set on a copy of a slice from a DataFrame.\n",
      "Try using .loc[row_indexer,col_indexer] = value instead\n",
      "\n",
      "See the caveats in the documentation: https://pandas.pydata.org/pandas-docs/stable/user_guide/indexing.html#returning-a-view-versus-a-copy\n",
      "  df_merged_not_excluded['total_spend'] = df_merged_not_excluded.groupby('user_id')['prices'].transform('sum')\n"
     ]
    }
   ],
   "source": [
    "df_merged_not_excluded['total_spend'] = df_merged_not_excluded.groupby('user_id')['prices'].transform('sum')"
   ]
  },
  {
   "cell_type": "code",
   "execution_count": 39,
   "id": "86d53d1f-3760-466f-b8b0-7b82be48516f",
   "metadata": {},
   "outputs": [
    {
     "data": {
      "text/html": [
       "<div>\n",
       "<style scoped>\n",
       "    .dataframe tbody tr th:only-of-type {\n",
       "        vertical-align: middle;\n",
       "    }\n",
       "\n",
       "    .dataframe tbody tr th {\n",
       "        vertical-align: top;\n",
       "    }\n",
       "\n",
       "    .dataframe thead tr th {\n",
       "        text-align: left;\n",
       "    }\n",
       "\n",
       "    .dataframe thead tr:last-of-type th {\n",
       "        text-align: right;\n",
       "    }\n",
       "</style>\n",
       "<table border=\"1\" class=\"dataframe\">\n",
       "  <thead>\n",
       "    <tr>\n",
       "      <th></th>\n",
       "      <th colspan=\"3\" halign=\"left\">total_spend</th>\n",
       "      <th colspan=\"3\" halign=\"left\">order_number</th>\n",
       "    </tr>\n",
       "    <tr>\n",
       "      <th></th>\n",
       "      <th>mean</th>\n",
       "      <th>min</th>\n",
       "      <th>max</th>\n",
       "      <th>mean</th>\n",
       "      <th>min</th>\n",
       "      <th>max</th>\n",
       "    </tr>\n",
       "    <tr>\n",
       "      <th>loyalty_flag</th>\n",
       "      <th></th>\n",
       "      <th></th>\n",
       "      <th></th>\n",
       "      <th></th>\n",
       "      <th></th>\n",
       "      <th></th>\n",
       "    </tr>\n",
       "  </thead>\n",
       "  <tbody>\n",
       "    <tr>\n",
       "      <th>Loyal customer</th>\n",
       "      <td>8089.330353</td>\n",
       "      <td>156.0</td>\n",
       "      <td>2101976.9</td>\n",
       "      <td>32.641196</td>\n",
       "      <td>1</td>\n",
       "      <td>99</td>\n",
       "    </tr>\n",
       "    <tr>\n",
       "      <th>New customer</th>\n",
       "      <td>1345.178107</td>\n",
       "      <td>5.0</td>\n",
       "      <td>800423.2</td>\n",
       "      <td>4.268295</td>\n",
       "      <td>1</td>\n",
       "      <td>10</td>\n",
       "    </tr>\n",
       "    <tr>\n",
       "      <th>Regular customer</th>\n",
       "      <td>3866.475690</td>\n",
       "      <td>15.7</td>\n",
       "      <td>2104114.1</td>\n",
       "      <td>12.347452</td>\n",
       "      <td>1</td>\n",
       "      <td>40</td>\n",
       "    </tr>\n",
       "  </tbody>\n",
       "</table>\n",
       "</div>"
      ],
      "text/plain": [
       "                  total_spend                   order_number        \n",
       "                         mean    min        max         mean min max\n",
       "loyalty_flag                                                        \n",
       "Loyal customer    8089.330353  156.0  2101976.9    32.641196   1  99\n",
       "New customer      1345.178107    5.0   800423.2     4.268295   1  10\n",
       "Regular customer  3866.475690   15.7  2104114.1    12.347452   1  40"
      ]
     },
     "execution_count": 39,
     "metadata": {},
     "output_type": "execute_result"
    }
   ],
   "source": [
    "df_merged_not_excluded.groupby('loyalty_flag').agg({'total_spend': ['mean', 'min', 'max'], 'order_number': ['mean', 'min', 'max']})"
   ]
  },
  {
   "cell_type": "code",
   "execution_count": 40,
   "id": "95d98990-72f3-401c-a169-62b1b589c086",
   "metadata": {},
   "outputs": [
    {
     "data": {
      "text/html": [
       "<div>\n",
       "<style scoped>\n",
       "    .dataframe tbody tr th:only-of-type {\n",
       "        vertical-align: middle;\n",
       "    }\n",
       "\n",
       "    .dataframe tbody tr th {\n",
       "        vertical-align: top;\n",
       "    }\n",
       "\n",
       "    .dataframe thead tr th {\n",
       "        text-align: left;\n",
       "    }\n",
       "\n",
       "    .dataframe thead tr:last-of-type th {\n",
       "        text-align: right;\n",
       "    }\n",
       "</style>\n",
       "<table border=\"1\" class=\"dataframe\">\n",
       "  <thead>\n",
       "    <tr>\n",
       "      <th></th>\n",
       "      <th colspan=\"3\" halign=\"left\">total_spend</th>\n",
       "      <th colspan=\"3\" halign=\"left\">order_number</th>\n",
       "    </tr>\n",
       "    <tr>\n",
       "      <th></th>\n",
       "      <th>mean</th>\n",
       "      <th>min</th>\n",
       "      <th>max</th>\n",
       "      <th>mean</th>\n",
       "      <th>min</th>\n",
       "      <th>max</th>\n",
       "    </tr>\n",
       "    <tr>\n",
       "      <th>age_type</th>\n",
       "      <th></th>\n",
       "      <th></th>\n",
       "      <th></th>\n",
       "      <th></th>\n",
       "      <th></th>\n",
       "      <th></th>\n",
       "    </tr>\n",
       "  </thead>\n",
       "  <tbody>\n",
       "    <tr>\n",
       "      <th>adult</th>\n",
       "      <td>4835.198560</td>\n",
       "      <td>5.0</td>\n",
       "      <td>1302986.8</td>\n",
       "      <td>17.865629</td>\n",
       "      <td>1</td>\n",
       "      <td>99</td>\n",
       "    </tr>\n",
       "    <tr>\n",
       "      <th>senior</th>\n",
       "      <td>4900.089398</td>\n",
       "      <td>6.8</td>\n",
       "      <td>1409778.9</td>\n",
       "      <td>17.807616</td>\n",
       "      <td>1</td>\n",
       "      <td>99</td>\n",
       "    </tr>\n",
       "    <tr>\n",
       "      <th>young</th>\n",
       "      <td>4944.249616</td>\n",
       "      <td>10.5</td>\n",
       "      <td>2104114.1</td>\n",
       "      <td>17.803483</td>\n",
       "      <td>1</td>\n",
       "      <td>99</td>\n",
       "    </tr>\n",
       "  </tbody>\n",
       "</table>\n",
       "</div>"
      ],
      "text/plain": [
       "          total_spend                  order_number        \n",
       "                 mean   min        max         mean min max\n",
       "age_type                                                   \n",
       "adult     4835.198560   5.0  1302986.8    17.865629   1  99\n",
       "senior    4900.089398   6.8  1409778.9    17.807616   1  99\n",
       "young     4944.249616  10.5  2104114.1    17.803483   1  99"
      ]
     },
     "execution_count": 40,
     "metadata": {},
     "output_type": "execute_result"
    }
   ],
   "source": [
    "df_merged_not_excluded.groupby('age_type').agg({'total_spend': ['mean', 'min', 'max'], 'order_number': ['mean', 'min', 'max']})"
   ]
  },
  {
   "cell_type": "code",
   "execution_count": 41,
   "id": "645ab2d7-1a9a-480f-a175-81d79ac7a223",
   "metadata": {},
   "outputs": [
    {
     "data": {
      "text/html": [
       "<div>\n",
       "<style scoped>\n",
       "    .dataframe tbody tr th:only-of-type {\n",
       "        vertical-align: middle;\n",
       "    }\n",
       "\n",
       "    .dataframe tbody tr th {\n",
       "        vertical-align: top;\n",
       "    }\n",
       "\n",
       "    .dataframe thead tr th {\n",
       "        text-align: left;\n",
       "    }\n",
       "\n",
       "    .dataframe thead tr:last-of-type th {\n",
       "        text-align: right;\n",
       "    }\n",
       "</style>\n",
       "<table border=\"1\" class=\"dataframe\">\n",
       "  <thead>\n",
       "    <tr>\n",
       "      <th></th>\n",
       "      <th colspan=\"3\" halign=\"left\">total_spend</th>\n",
       "      <th colspan=\"3\" halign=\"left\">order_number</th>\n",
       "    </tr>\n",
       "    <tr>\n",
       "      <th></th>\n",
       "      <th>mean</th>\n",
       "      <th>min</th>\n",
       "      <th>max</th>\n",
       "      <th>mean</th>\n",
       "      <th>min</th>\n",
       "      <th>max</th>\n",
       "    </tr>\n",
       "    <tr>\n",
       "      <th>income_type</th>\n",
       "      <th></th>\n",
       "      <th></th>\n",
       "      <th></th>\n",
       "      <th></th>\n",
       "      <th></th>\n",
       "      <th></th>\n",
       "    </tr>\n",
       "  </thead>\n",
       "  <tbody>\n",
       "    <tr>\n",
       "      <th>High</th>\n",
       "      <td>6547.130743</td>\n",
       "      <td>24.7</td>\n",
       "      <td>2104114.1</td>\n",
       "      <td>17.918880</td>\n",
       "      <td>1</td>\n",
       "      <td>99</td>\n",
       "    </tr>\n",
       "    <tr>\n",
       "      <th>Low</th>\n",
       "      <td>2525.917679</td>\n",
       "      <td>5.0</td>\n",
       "      <td>24307.1</td>\n",
       "      <td>16.835516</td>\n",
       "      <td>1</td>\n",
       "      <td>99</td>\n",
       "    </tr>\n",
       "    <tr>\n",
       "      <th>Middle</th>\n",
       "      <td>3697.694358</td>\n",
       "      <td>11.2</td>\n",
       "      <td>1102546.5</td>\n",
       "      <td>17.994953</td>\n",
       "      <td>1</td>\n",
       "      <td>99</td>\n",
       "    </tr>\n",
       "  </tbody>\n",
       "</table>\n",
       "</div>"
      ],
      "text/plain": [
       "             total_spend                  order_number        \n",
       "                    mean   min        max         mean min max\n",
       "income_type                                                   \n",
       "High         6547.130743  24.7  2104114.1    17.918880   1  99\n",
       "Low          2525.917679   5.0    24307.1    16.835516   1  99\n",
       "Middle       3697.694358  11.2  1102546.5    17.994953   1  99"
      ]
     },
     "execution_count": 41,
     "metadata": {},
     "output_type": "execute_result"
    }
   ],
   "source": [
    "df_merged_not_excluded.groupby('income_type').agg({'total_spend': ['mean', 'min', 'max'], 'order_number': ['mean', 'min', 'max']})"
   ]
  },
  {
   "cell_type": "code",
   "execution_count": 42,
   "id": "fac15367-78e9-4781-a14f-ec2fb59d1d1f",
   "metadata": {},
   "outputs": [
    {
     "data": {
      "text/html": [
       "<div>\n",
       "<style scoped>\n",
       "    .dataframe tbody tr th:only-of-type {\n",
       "        vertical-align: middle;\n",
       "    }\n",
       "\n",
       "    .dataframe tbody tr th {\n",
       "        vertical-align: top;\n",
       "    }\n",
       "\n",
       "    .dataframe thead tr th {\n",
       "        text-align: left;\n",
       "    }\n",
       "\n",
       "    .dataframe thead tr:last-of-type th {\n",
       "        text-align: right;\n",
       "    }\n",
       "</style>\n",
       "<table border=\"1\" class=\"dataframe\">\n",
       "  <thead>\n",
       "    <tr>\n",
       "      <th></th>\n",
       "      <th colspan=\"3\" halign=\"left\">total_spend</th>\n",
       "      <th colspan=\"3\" halign=\"left\">order_number</th>\n",
       "    </tr>\n",
       "    <tr>\n",
       "      <th></th>\n",
       "      <th>mean</th>\n",
       "      <th>min</th>\n",
       "      <th>max</th>\n",
       "      <th>mean</th>\n",
       "      <th>min</th>\n",
       "      <th>max</th>\n",
       "    </tr>\n",
       "    <tr>\n",
       "      <th>region</th>\n",
       "      <th></th>\n",
       "      <th></th>\n",
       "      <th></th>\n",
       "      <th></th>\n",
       "      <th></th>\n",
       "      <th></th>\n",
       "    </tr>\n",
       "  </thead>\n",
       "  <tbody>\n",
       "    <tr>\n",
       "      <th>midwest</th>\n",
       "      <td>5191.098827</td>\n",
       "      <td>7.0</td>\n",
       "      <td>2104114.1</td>\n",
       "      <td>17.602828</td>\n",
       "      <td>1</td>\n",
       "      <td>99</td>\n",
       "    </tr>\n",
       "    <tr>\n",
       "      <th>northeast</th>\n",
       "      <td>4834.964962</td>\n",
       "      <td>7.7</td>\n",
       "      <td>1409778.9</td>\n",
       "      <td>17.921760</td>\n",
       "      <td>1</td>\n",
       "      <td>99</td>\n",
       "    </tr>\n",
       "    <tr>\n",
       "      <th>south</th>\n",
       "      <td>4951.166439</td>\n",
       "      <td>6.8</td>\n",
       "      <td>1206437.5</td>\n",
       "      <td>17.844674</td>\n",
       "      <td>1</td>\n",
       "      <td>99</td>\n",
       "    </tr>\n",
       "    <tr>\n",
       "      <th>west</th>\n",
       "      <td>4525.095845</td>\n",
       "      <td>5.0</td>\n",
       "      <td>1003648.4</td>\n",
       "      <td>17.971929</td>\n",
       "      <td>1</td>\n",
       "      <td>99</td>\n",
       "    </tr>\n",
       "  </tbody>\n",
       "</table>\n",
       "</div>"
      ],
      "text/plain": [
       "           total_spend                 order_number        \n",
       "                  mean  min        max         mean min max\n",
       "region                                                     \n",
       "midwest    5191.098827  7.0  2104114.1    17.602828   1  99\n",
       "northeast  4834.964962  7.7  1409778.9    17.921760   1  99\n",
       "south      4951.166439  6.8  1206437.5    17.844674   1  99\n",
       "west       4525.095845  5.0  1003648.4    17.971929   1  99"
      ]
     },
     "execution_count": 42,
     "metadata": {},
     "output_type": "execute_result"
    }
   ],
   "source": [
    "df_merged_not_excluded.groupby('region').agg({'total_spend': ['mean', 'min', 'max'], 'order_number': ['mean', 'min', 'max']})"
   ]
  },
  {
   "cell_type": "code",
   "execution_count": 43,
   "id": "52c0e135-29d6-48e7-bb75-a8b10f51180d",
   "metadata": {},
   "outputs": [
    {
     "data": {
      "text/html": [
       "<div>\n",
       "<style scoped>\n",
       "    .dataframe tbody tr th:only-of-type {\n",
       "        vertical-align: middle;\n",
       "    }\n",
       "\n",
       "    .dataframe tbody tr th {\n",
       "        vertical-align: top;\n",
       "    }\n",
       "\n",
       "    .dataframe thead tr th {\n",
       "        text-align: left;\n",
       "    }\n",
       "\n",
       "    .dataframe thead tr:last-of-type th {\n",
       "        text-align: right;\n",
       "    }\n",
       "</style>\n",
       "<table border=\"1\" class=\"dataframe\">\n",
       "  <thead>\n",
       "    <tr>\n",
       "      <th></th>\n",
       "      <th colspan=\"3\" halign=\"left\">total_spend</th>\n",
       "      <th colspan=\"3\" halign=\"left\">order_number</th>\n",
       "    </tr>\n",
       "    <tr>\n",
       "      <th></th>\n",
       "      <th>mean</th>\n",
       "      <th>min</th>\n",
       "      <th>max</th>\n",
       "      <th>mean</th>\n",
       "      <th>min</th>\n",
       "      <th>max</th>\n",
       "    </tr>\n",
       "    <tr>\n",
       "      <th>number_dependant_type</th>\n",
       "      <th></th>\n",
       "      <th></th>\n",
       "      <th></th>\n",
       "      <th></th>\n",
       "      <th></th>\n",
       "      <th></th>\n",
       "    </tr>\n",
       "  </thead>\n",
       "  <tbody>\n",
       "    <tr>\n",
       "      <th>dependant</th>\n",
       "      <td>4920.314739</td>\n",
       "      <td>6.8</td>\n",
       "      <td>2104114.1</td>\n",
       "      <td>17.792891</td>\n",
       "      <td>1</td>\n",
       "      <td>99</td>\n",
       "    </tr>\n",
       "    <tr>\n",
       "      <th>no dependants</th>\n",
       "      <td>4750.413525</td>\n",
       "      <td>5.0</td>\n",
       "      <td>2101976.9</td>\n",
       "      <td>17.957922</td>\n",
       "      <td>1</td>\n",
       "      <td>99</td>\n",
       "    </tr>\n",
       "  </tbody>\n",
       "</table>\n",
       "</div>"
      ],
      "text/plain": [
       "                       total_spend                 order_number        \n",
       "                              mean  min        max         mean min max\n",
       "number_dependant_type                                                  \n",
       "dependant              4920.314739  6.8  2104114.1    17.792891   1  99\n",
       "no dependants          4750.413525  5.0  2101976.9    17.957922   1  99"
      ]
     },
     "execution_count": 43,
     "metadata": {},
     "output_type": "execute_result"
    }
   ],
   "source": [
    "df_merged_not_excluded.groupby('number_dependant_type').agg({'total_spend': ['mean', 'min', 'max'], 'order_number': ['mean', 'min', 'max']})"
   ]
  },
  {
   "cell_type": "markdown",
   "id": "0cce0f39-5b7e-48ca-8010-42c84e5468bb",
   "metadata": {},
   "source": [
    "#  8 & 9. Compare your customer profiles with regions and departments/ Produce suitable charts to illustrate your results "
   ]
  },
  {
   "cell_type": "code",
   "execution_count": 46,
   "id": "70a562d9-c2a6-4460-830d-81bd12bcafbe",
   "metadata": {},
   "outputs": [],
   "source": [
    "loyalty = df_merged_not_excluded.groupby(['loyalty_flag', 'department_id']).size().unstack()\n"
   ]
  },
  {
   "cell_type": "code",
   "execution_count": 66,
   "id": "deffca93-7416-434e-aa3b-68714e21d547",
   "metadata": {},
   "outputs": [
    {
     "data": {
      "text/html": [
       "<div>\n",
       "<style scoped>\n",
       "    .dataframe tbody tr th:only-of-type {\n",
       "        vertical-align: middle;\n",
       "    }\n",
       "\n",
       "    .dataframe tbody tr th {\n",
       "        vertical-align: top;\n",
       "    }\n",
       "\n",
       "    .dataframe thead th {\n",
       "        text-align: right;\n",
       "    }\n",
       "</style>\n",
       "<table border=\"1\" class=\"dataframe\">\n",
       "  <thead>\n",
       "    <tr style=\"text-align: right;\">\n",
       "      <th>department_id</th>\n",
       "      <th>1</th>\n",
       "      <th>2</th>\n",
       "      <th>3</th>\n",
       "      <th>4</th>\n",
       "      <th>5</th>\n",
       "      <th>6</th>\n",
       "      <th>7</th>\n",
       "      <th>8</th>\n",
       "      <th>9</th>\n",
       "      <th>10</th>\n",
       "      <th>...</th>\n",
       "      <th>12</th>\n",
       "      <th>13</th>\n",
       "      <th>14</th>\n",
       "      <th>15</th>\n",
       "      <th>16</th>\n",
       "      <th>17</th>\n",
       "      <th>18</th>\n",
       "      <th>19</th>\n",
       "      <th>20</th>\n",
       "      <th>21</th>\n",
       "    </tr>\n",
       "    <tr>\n",
       "      <th>loyalty_flag</th>\n",
       "      <th></th>\n",
       "      <th></th>\n",
       "      <th></th>\n",
       "      <th></th>\n",
       "      <th></th>\n",
       "      <th></th>\n",
       "      <th></th>\n",
       "      <th></th>\n",
       "      <th></th>\n",
       "      <th></th>\n",
       "      <th></th>\n",
       "      <th></th>\n",
       "      <th></th>\n",
       "      <th></th>\n",
       "      <th></th>\n",
       "      <th></th>\n",
       "      <th></th>\n",
       "      <th></th>\n",
       "      <th></th>\n",
       "      <th></th>\n",
       "      <th></th>\n",
       "    </tr>\n",
       "  </thead>\n",
       "  <tbody>\n",
       "    <tr>\n",
       "      <th>Loyal customer</th>\n",
       "      <td>609460</td>\n",
       "      <td>10715</td>\n",
       "      <td>379873</td>\n",
       "      <td>3147376</td>\n",
       "      <td>38723</td>\n",
       "      <td>78394</td>\n",
       "      <td>855017</td>\n",
       "      <td>25469</td>\n",
       "      <td>242580</td>\n",
       "      <td>13834</td>\n",
       "      <td>...</td>\n",
       "      <td>202480</td>\n",
       "      <td>560402</td>\n",
       "      <td>221577</td>\n",
       "      <td>294594</td>\n",
       "      <td>1830707</td>\n",
       "      <td>196873</td>\n",
       "      <td>167108</td>\n",
       "      <td>943150</td>\n",
       "      <td>324046</td>\n",
       "      <td>18350</td>\n",
       "    </tr>\n",
       "    <tr>\n",
       "      <th>New customer</th>\n",
       "      <td>372271</td>\n",
       "      <td>5839</td>\n",
       "      <td>172104</td>\n",
       "      <td>1336604</td>\n",
       "      <td>28629</td>\n",
       "      <td>43841</td>\n",
       "      <td>396649</td>\n",
       "      <td>15880</td>\n",
       "      <td>144836</td>\n",
       "      <td>4149</td>\n",
       "      <td>...</td>\n",
       "      <td>112464</td>\n",
       "      <td>299576</td>\n",
       "      <td>106179</td>\n",
       "      <td>180196</td>\n",
       "      <td>750056</td>\n",
       "      <td>128117</td>\n",
       "      <td>46708</td>\n",
       "      <td>413107</td>\n",
       "      <td>158335</td>\n",
       "      <td>12713</td>\n",
       "    </tr>\n",
       "    <tr>\n",
       "      <th>Regular customer</th>\n",
       "      <td>1140000</td>\n",
       "      <td>17857</td>\n",
       "      <td>568851</td>\n",
       "      <td>4595293</td>\n",
       "      <td>77275</td>\n",
       "      <td>133756</td>\n",
       "      <td>1320235</td>\n",
       "      <td>51711</td>\n",
       "      <td>434720</td>\n",
       "      <td>15468</td>\n",
       "      <td>...</td>\n",
       "      <td>359837</td>\n",
       "      <td>922727</td>\n",
       "      <td>343094</td>\n",
       "      <td>537284</td>\n",
       "      <td>2596419</td>\n",
       "      <td>374867</td>\n",
       "      <td>196576</td>\n",
       "      <td>1410149</td>\n",
       "      <td>521453</td>\n",
       "      <td>33705</td>\n",
       "    </tr>\n",
       "  </tbody>\n",
       "</table>\n",
       "<p>3 rows × 21 columns</p>\n",
       "</div>"
      ],
      "text/plain": [
       "department_id          1      2       3        4      5       6        7   \\\n",
       "loyalty_flag                                                                \n",
       "Loyal customer     609460  10715  379873  3147376  38723   78394   855017   \n",
       "New customer       372271   5839  172104  1336604  28629   43841   396649   \n",
       "Regular customer  1140000  17857  568851  4595293  77275  133756  1320235   \n",
       "\n",
       "department_id        8       9      10  ...      12      13      14      15  \\\n",
       "loyalty_flag                            ...                                   \n",
       "Loyal customer    25469  242580  13834  ...  202480  560402  221577  294594   \n",
       "New customer      15880  144836   4149  ...  112464  299576  106179  180196   \n",
       "Regular customer  51711  434720  15468  ...  359837  922727  343094  537284   \n",
       "\n",
       "department_id          16      17      18       19      20     21  \n",
       "loyalty_flag                                                       \n",
       "Loyal customer    1830707  196873  167108   943150  324046  18350  \n",
       "New customer       750056  128117   46708   413107  158335  12713  \n",
       "Regular customer  2596419  374867  196576  1410149  521453  33705  \n",
       "\n",
       "[3 rows x 21 columns]"
      ]
     },
     "execution_count": 66,
     "metadata": {},
     "output_type": "execute_result"
    }
   ],
   "source": [
    "loyalty"
   ]
  },
  {
   "cell_type": "code",
   "execution_count": 83,
   "id": "b3a69c77-3b26-40dc-ad8b-f5e36908414c",
   "metadata": {},
   "outputs": [
    {
     "data": {
      "text/plain": [
       "<matplotlib.legend.Legend at 0x17b3e7c04d0>"
      ]
     },
     "execution_count": 83,
     "metadata": {},
     "output_type": "execute_result"
    },
    {
     "data": {
      "image/png": "[encoded data removed]",
      "text/plain": [
       "<Figure size 1000x600 with 1 Axes>"
      ]
     },
     "metadata": {},
     "output_type": "display_data"
    }
   ],
   "source": [
    "# create a stacked bar by loyal_flag and department_id\n",
    "bar7 = loyalty.plot(kind='bar', stacked=True, figsize=(10, 6))\n",
    "plt.xlabel('loyalty flag')\n",
    "plt.ylabel('Count')\n",
    "plt.title('Shopping preference by loyalty flag and department')\n",
    "plt.legend(title='Department Id')\n"
   ]
  },
  {
   "cell_type": "code",
   "execution_count": 84,
   "id": "409d0c5d-2827-44a2-87a7-34640804e14b",
   "metadata": {},
   "outputs": [],
   "source": [
    "# Export chart\n",
    "bar7.figure.savefig(os.path.join(path, '04. Analysis','Visualizations', 'shopping by loyalty_and_department.png'))"
   ]
  },
  {
   "cell_type": "code",
   "execution_count": 59,
   "id": "d366f4cb-458a-4e5f-b021-ad9e0961ab8e",
   "metadata": {},
   "outputs": [],
   "source": [
    "region = df_merged_not_excluded.groupby(['region', 'department_id']).size().unstack()"
   ]
  },
  {
   "cell_type": "code",
   "execution_count": 65,
   "id": "de708ade-404e-4c77-9174-583561847ed9",
   "metadata": {},
   "outputs": [
    {
     "data": {
      "text/html": [
       "<div>\n",
       "<style scoped>\n",
       "    .dataframe tbody tr th:only-of-type {\n",
       "        vertical-align: middle;\n",
       "    }\n",
       "\n",
       "    .dataframe tbody tr th {\n",
       "        vertical-align: top;\n",
       "    }\n",
       "\n",
       "    .dataframe thead th {\n",
       "        text-align: right;\n",
       "    }\n",
       "</style>\n",
       "<table border=\"1\" class=\"dataframe\">\n",
       "  <thead>\n",
       "    <tr style=\"text-align: right;\">\n",
       "      <th>department_id</th>\n",
       "      <th>1</th>\n",
       "      <th>2</th>\n",
       "      <th>3</th>\n",
       "      <th>4</th>\n",
       "      <th>5</th>\n",
       "      <th>6</th>\n",
       "      <th>7</th>\n",
       "      <th>8</th>\n",
       "      <th>9</th>\n",
       "      <th>10</th>\n",
       "      <th>...</th>\n",
       "      <th>12</th>\n",
       "      <th>13</th>\n",
       "      <th>14</th>\n",
       "      <th>15</th>\n",
       "      <th>16</th>\n",
       "      <th>17</th>\n",
       "      <th>18</th>\n",
       "      <th>19</th>\n",
       "      <th>20</th>\n",
       "      <th>21</th>\n",
       "    </tr>\n",
       "    <tr>\n",
       "      <th>region</th>\n",
       "      <th></th>\n",
       "      <th></th>\n",
       "      <th></th>\n",
       "      <th></th>\n",
       "      <th></th>\n",
       "      <th></th>\n",
       "      <th></th>\n",
       "      <th></th>\n",
       "      <th></th>\n",
       "      <th></th>\n",
       "      <th></th>\n",
       "      <th></th>\n",
       "      <th></th>\n",
       "      <th></th>\n",
       "      <th></th>\n",
       "      <th></th>\n",
       "      <th></th>\n",
       "      <th></th>\n",
       "      <th></th>\n",
       "      <th></th>\n",
       "      <th></th>\n",
       "    </tr>\n",
       "  </thead>\n",
       "  <tbody>\n",
       "    <tr>\n",
       "      <th>midwest</th>\n",
       "      <td>498225</td>\n",
       "      <td>7983</td>\n",
       "      <td>261753</td>\n",
       "      <td>2134115</td>\n",
       "      <td>34043</td>\n",
       "      <td>60666</td>\n",
       "      <td>598979</td>\n",
       "      <td>21358</td>\n",
       "      <td>193463</td>\n",
       "      <td>7929</td>\n",
       "      <td>...</td>\n",
       "      <td>158260</td>\n",
       "      <td>420334</td>\n",
       "      <td>156155</td>\n",
       "      <td>237459</td>\n",
       "      <td>1212490</td>\n",
       "      <td>166992</td>\n",
       "      <td>95741</td>\n",
       "      <td>645143</td>\n",
       "      <td>234464</td>\n",
       "      <td>15563</td>\n",
       "    </tr>\n",
       "    <tr>\n",
       "      <th>northeast</th>\n",
       "      <td>370436</td>\n",
       "      <td>6268</td>\n",
       "      <td>199300</td>\n",
       "      <td>1593004</td>\n",
       "      <td>25017</td>\n",
       "      <td>44678</td>\n",
       "      <td>462929</td>\n",
       "      <td>17734</td>\n",
       "      <td>143817</td>\n",
       "      <td>5599</td>\n",
       "      <td>...</td>\n",
       "      <td>118571</td>\n",
       "      <td>312731</td>\n",
       "      <td>117904</td>\n",
       "      <td>176936</td>\n",
       "      <td>914616</td>\n",
       "      <td>124604</td>\n",
       "      <td>72712</td>\n",
       "      <td>493154</td>\n",
       "      <td>178398</td>\n",
       "      <td>11512</td>\n",
       "    </tr>\n",
       "    <tr>\n",
       "      <th>south</th>\n",
       "      <td>709906</td>\n",
       "      <td>11579</td>\n",
       "      <td>371620</td>\n",
       "      <td>3027476</td>\n",
       "      <td>48813</td>\n",
       "      <td>84649</td>\n",
       "      <td>859419</td>\n",
       "      <td>29909</td>\n",
       "      <td>272813</td>\n",
       "      <td>11180</td>\n",
       "      <td>...</td>\n",
       "      <td>224120</td>\n",
       "      <td>591754</td>\n",
       "      <td>223172</td>\n",
       "      <td>337458</td>\n",
       "      <td>1723016</td>\n",
       "      <td>230061</td>\n",
       "      <td>139511</td>\n",
       "      <td>916780</td>\n",
       "      <td>333620</td>\n",
       "      <td>21787</td>\n",
       "    </tr>\n",
       "    <tr>\n",
       "      <th>west</th>\n",
       "      <td>543164</td>\n",
       "      <td>8581</td>\n",
       "      <td>288155</td>\n",
       "      <td>2324678</td>\n",
       "      <td>36754</td>\n",
       "      <td>65998</td>\n",
       "      <td>650574</td>\n",
       "      <td>24059</td>\n",
       "      <td>212043</td>\n",
       "      <td>8743</td>\n",
       "      <td>...</td>\n",
       "      <td>173830</td>\n",
       "      <td>457886</td>\n",
       "      <td>173619</td>\n",
       "      <td>260221</td>\n",
       "      <td>1327060</td>\n",
       "      <td>178200</td>\n",
       "      <td>102428</td>\n",
       "      <td>711329</td>\n",
       "      <td>257352</td>\n",
       "      <td>15906</td>\n",
       "    </tr>\n",
       "  </tbody>\n",
       "</table>\n",
       "<p>4 rows × 21 columns</p>\n",
       "</div>"
      ],
      "text/plain": [
       "department_id      1      2       3        4      5      6       7      8   \\\n",
       "region                                                                       \n",
       "midwest        498225   7983  261753  2134115  34043  60666  598979  21358   \n",
       "northeast      370436   6268  199300  1593004  25017  44678  462929  17734   \n",
       "south          709906  11579  371620  3027476  48813  84649  859419  29909   \n",
       "west           543164   8581  288155  2324678  36754  65998  650574  24059   \n",
       "\n",
       "department_id      9      10  ...      12      13      14      15       16  \\\n",
       "region                        ...                                            \n",
       "midwest        193463   7929  ...  158260  420334  156155  237459  1212490   \n",
       "northeast      143817   5599  ...  118571  312731  117904  176936   914616   \n",
       "south          272813  11180  ...  224120  591754  223172  337458  1723016   \n",
       "west           212043   8743  ...  173830  457886  173619  260221  1327060   \n",
       "\n",
       "department_id      17      18      19      20     21  \n",
       "region                                                \n",
       "midwest        166992   95741  645143  234464  15563  \n",
       "northeast      124604   72712  493154  178398  11512  \n",
       "south          230061  139511  916780  333620  21787  \n",
       "west           178200  102428  711329  257352  15906  \n",
       "\n",
       "[4 rows x 21 columns]"
      ]
     },
     "execution_count": 65,
     "metadata": {},
     "output_type": "execute_result"
    }
   ],
   "source": [
    "region"
   ]
  },
  {
   "cell_type": "code",
   "execution_count": 63,
   "id": "507621b7-b057-4d4f-8cb9-63291a38cc2a",
   "metadata": {},
   "outputs": [
    {
     "data": {
      "text/plain": [
       "Text(0.5, 36.72222222222221, 'Department ID')"
      ]
     },
     "execution_count": 63,
     "metadata": {},
     "output_type": "execute_result"
    },
    {
     "data": {
      "image/png": "[encoded data removed]",
      "text/plain": [
       "<Figure size 1200x600 with 2 Axes>"
      ]
     },
     "metadata": {},
     "output_type": "display_data"
    }
   ],
   "source": [
    "# create heatmap by region and department_id\n",
    "heatmap1 = plt.figure(figsize = (12,6))\n",
    "plt.title('Departmental Sales Across Regions')\n",
    "sns.heatmap(region, cmap = 'Spectral', linewidth=.5)\n",
    "plt.xlabel('Department ID')"
   ]
  },
  {
   "cell_type": "code",
   "execution_count": 64,
   "id": "e15fe7ba-8d1d-4c1d-8642-9945257885a0",
   "metadata": {},
   "outputs": [],
   "source": [
    "heatmap1.figure.savefig(os.path.join(path, '04. Analysis','Visualizations', 'departamental sales across regions.png'))"
   ]
  },
  {
   "cell_type": "code",
   "execution_count": 76,
   "id": "aef6e8b6-13dc-4c0e-89c8-5435fe480d8f",
   "metadata": {},
   "outputs": [],
   "source": [
    "income_depart = df_merged_not_excluded.groupby(['income_type', 'department_id']).size().unstack()"
   ]
  },
  {
   "cell_type": "code",
   "execution_count": 78,
   "id": "5436376f-77fc-498c-9f6f-0b6f3466958c",
   "metadata": {},
   "outputs": [
    {
     "data": {
      "text/html": [
       "<div>\n",
       "<style scoped>\n",
       "    .dataframe tbody tr th:only-of-type {\n",
       "        vertical-align: middle;\n",
       "    }\n",
       "\n",
       "    .dataframe tbody tr th {\n",
       "        vertical-align: top;\n",
       "    }\n",
       "\n",
       "    .dataframe thead th {\n",
       "        text-align: right;\n",
       "    }\n",
       "</style>\n",
       "<table border=\"1\" class=\"dataframe\">\n",
       "  <thead>\n",
       "    <tr style=\"text-align: right;\">\n",
       "      <th>department_id</th>\n",
       "      <th>1</th>\n",
       "      <th>2</th>\n",
       "      <th>3</th>\n",
       "      <th>4</th>\n",
       "      <th>5</th>\n",
       "      <th>6</th>\n",
       "      <th>7</th>\n",
       "      <th>8</th>\n",
       "      <th>9</th>\n",
       "      <th>10</th>\n",
       "      <th>...</th>\n",
       "      <th>12</th>\n",
       "      <th>13</th>\n",
       "      <th>14</th>\n",
       "      <th>15</th>\n",
       "      <th>16</th>\n",
       "      <th>17</th>\n",
       "      <th>18</th>\n",
       "      <th>19</th>\n",
       "      <th>20</th>\n",
       "      <th>21</th>\n",
       "    </tr>\n",
       "    <tr>\n",
       "      <th>income_type</th>\n",
       "      <th></th>\n",
       "      <th></th>\n",
       "      <th></th>\n",
       "      <th></th>\n",
       "      <th></th>\n",
       "      <th></th>\n",
       "      <th></th>\n",
       "      <th></th>\n",
       "      <th></th>\n",
       "      <th></th>\n",
       "      <th></th>\n",
       "      <th></th>\n",
       "      <th></th>\n",
       "      <th></th>\n",
       "      <th></th>\n",
       "      <th></th>\n",
       "      <th></th>\n",
       "      <th></th>\n",
       "      <th></th>\n",
       "      <th></th>\n",
       "      <th></th>\n",
       "    </tr>\n",
       "  </thead>\n",
       "  <tbody>\n",
       "    <tr>\n",
       "      <th>High</th>\n",
       "      <td>988500</td>\n",
       "      <td>15750</td>\n",
       "      <td>527711</td>\n",
       "      <td>4237002</td>\n",
       "      <td>69142</td>\n",
       "      <td>119991</td>\n",
       "      <td>1126462</td>\n",
       "      <td>45089</td>\n",
       "      <td>392731</td>\n",
       "      <td>14218</td>\n",
       "      <td>...</td>\n",
       "      <td>335552</td>\n",
       "      <td>839964</td>\n",
       "      <td>297596</td>\n",
       "      <td>485253</td>\n",
       "      <td>2406211</td>\n",
       "      <td>319959</td>\n",
       "      <td>196704</td>\n",
       "      <td>1104601</td>\n",
       "      <td>462099</td>\n",
       "      <td>29455</td>\n",
       "    </tr>\n",
       "    <tr>\n",
       "      <th>Low</th>\n",
       "      <td>215177</td>\n",
       "      <td>3886</td>\n",
       "      <td>106757</td>\n",
       "      <td>826314</td>\n",
       "      <td>18047</td>\n",
       "      <td>21636</td>\n",
       "      <td>383121</td>\n",
       "      <td>8612</td>\n",
       "      <td>64481</td>\n",
       "      <td>4676</td>\n",
       "      <td>...</td>\n",
       "      <td>34278</td>\n",
       "      <td>166061</td>\n",
       "      <td>91408</td>\n",
       "      <td>78975</td>\n",
       "      <td>502363</td>\n",
       "      <td>87216</td>\n",
       "      <td>29240</td>\n",
       "      <td>559529</td>\n",
       "      <td>106448</td>\n",
       "      <td>6547</td>\n",
       "    </tr>\n",
       "    <tr>\n",
       "      <th>Middle</th>\n",
       "      <td>918054</td>\n",
       "      <td>14775</td>\n",
       "      <td>486360</td>\n",
       "      <td>4015957</td>\n",
       "      <td>57438</td>\n",
       "      <td>114364</td>\n",
       "      <td>1062318</td>\n",
       "      <td>39359</td>\n",
       "      <td>364924</td>\n",
       "      <td>14557</td>\n",
       "      <td>...</td>\n",
       "      <td>304951</td>\n",
       "      <td>776680</td>\n",
       "      <td>281846</td>\n",
       "      <td>447846</td>\n",
       "      <td>2268608</td>\n",
       "      <td>292682</td>\n",
       "      <td>184448</td>\n",
       "      <td>1102276</td>\n",
       "      <td>435287</td>\n",
       "      <td>28766</td>\n",
       "    </tr>\n",
       "  </tbody>\n",
       "</table>\n",
       "<p>3 rows × 21 columns</p>\n",
       "</div>"
      ],
      "text/plain": [
       "department_id      1      2       3        4      5       6        7      8   \\\n",
       "income_type                                                                    \n",
       "High           988500  15750  527711  4237002  69142  119991  1126462  45089   \n",
       "Low            215177   3886  106757   826314  18047   21636   383121   8612   \n",
       "Middle         918054  14775  486360  4015957  57438  114364  1062318  39359   \n",
       "\n",
       "department_id      9      10  ...      12      13      14      15       16  \\\n",
       "income_type                   ...                                            \n",
       "High           392731  14218  ...  335552  839964  297596  485253  2406211   \n",
       "Low             64481   4676  ...   34278  166061   91408   78975   502363   \n",
       "Middle         364924  14557  ...  304951  776680  281846  447846  2268608   \n",
       "\n",
       "department_id      17      18       19      20     21  \n",
       "income_type                                            \n",
       "High           319959  196704  1104601  462099  29455  \n",
       "Low             87216   29240   559529  106448   6547  \n",
       "Middle         292682  184448  1102276  435287  28766  \n",
       "\n",
       "[3 rows x 21 columns]"
      ]
     },
     "execution_count": 78,
     "metadata": {},
     "output_type": "execute_result"
    }
   ],
   "source": [
    "income_depart "
   ]
  },
  {
   "cell_type": "code",
   "execution_count": 77,
   "id": "76361a6d-a393-4031-9f91-daeeecec68ab",
   "metadata": {},
   "outputs": [
    {
     "data": {
      "text/plain": [
       "Text(0.5, 36.72222222222221, 'ID de departamento')"
      ]
     },
     "execution_count": 77,
     "metadata": {},
     "output_type": "execute_result"
    },
    {
     "data": {
      "image/png": "[encoded data removed]",
      "text/plain": [
       "<Figure size 1200x600 with 2 Axes>"
      ]
     },
     "metadata": {},
     "output_type": "display_data"
    }
   ],
   "source": [
    "# create heatmap by income_type and department_id\n",
    "heatmap2 = plt.figure(figsize=(12, 6))\n",
    "plt.title('Sales by department according to income type')\n",
    "sns.heatmap(income_depart, cmap='coolwarm', linewidths=.5)\n",
    "plt.xlabel('ID de departamento')\n"
   ]
  },
  {
   "cell_type": "code",
   "execution_count": 79,
   "id": "2ecd2c17-b4bc-4d97-99a5-c1e88cf47dcc",
   "metadata": {},
   "outputs": [],
   "source": [
    "heatmap2.figure.savefig(os.path.join(path, '04. Analysis','Visualizations', 'sales by departmen_income_type.png'))"
   ]
  },
  {
   "cell_type": "code",
   "execution_count": 81,
   "id": "f9ebb510-c7f2-4ecd-951f-5aeb77b24459",
   "metadata": {},
   "outputs": [],
   "source": [
    "# create heatmap by dependant_type and department_id\n",
    "dependant_profile = df_merged_not_excluded.groupby(['number_dependant_type','department_id']).size().unstack()"
   ]
  },
  {
   "cell_type": "code",
   "execution_count": 86,
   "id": "5fee4323-d4ae-4bc9-8aba-87482777d429",
   "metadata": {},
   "outputs": [
    {
     "data": {
      "text/html": [
       "<div>\n",
       "<style scoped>\n",
       "    .dataframe tbody tr th:only-of-type {\n",
       "        vertical-align: middle;\n",
       "    }\n",
       "\n",
       "    .dataframe tbody tr th {\n",
       "        vertical-align: top;\n",
       "    }\n",
       "\n",
       "    .dataframe thead th {\n",
       "        text-align: right;\n",
       "    }\n",
       "</style>\n",
       "<table border=\"1\" class=\"dataframe\">\n",
       "  <thead>\n",
       "    <tr style=\"text-align: right;\">\n",
       "      <th>department_id</th>\n",
       "      <th>1</th>\n",
       "      <th>2</th>\n",
       "      <th>3</th>\n",
       "      <th>4</th>\n",
       "      <th>5</th>\n",
       "      <th>6</th>\n",
       "      <th>7</th>\n",
       "      <th>8</th>\n",
       "      <th>9</th>\n",
       "      <th>10</th>\n",
       "      <th>...</th>\n",
       "      <th>12</th>\n",
       "      <th>13</th>\n",
       "      <th>14</th>\n",
       "      <th>15</th>\n",
       "      <th>16</th>\n",
       "      <th>17</th>\n",
       "      <th>18</th>\n",
       "      <th>19</th>\n",
       "      <th>20</th>\n",
       "      <th>21</th>\n",
       "    </tr>\n",
       "    <tr>\n",
       "      <th>number_dependant_type</th>\n",
       "      <th></th>\n",
       "      <th></th>\n",
       "      <th></th>\n",
       "      <th></th>\n",
       "      <th></th>\n",
       "      <th></th>\n",
       "      <th></th>\n",
       "      <th></th>\n",
       "      <th></th>\n",
       "      <th></th>\n",
       "      <th></th>\n",
       "      <th></th>\n",
       "      <th></th>\n",
       "      <th></th>\n",
       "      <th></th>\n",
       "      <th></th>\n",
       "      <th></th>\n",
       "      <th></th>\n",
       "      <th></th>\n",
       "      <th></th>\n",
       "      <th></th>\n",
       "    </tr>\n",
       "  </thead>\n",
       "  <tbody>\n",
       "    <tr>\n",
       "      <th>dependant</th>\n",
       "      <td>1592383</td>\n",
       "      <td>25697</td>\n",
       "      <td>839433</td>\n",
       "      <td>6803832</td>\n",
       "      <td>107800</td>\n",
       "      <td>191530</td>\n",
       "      <td>1926560</td>\n",
       "      <td>69458</td>\n",
       "      <td>617840</td>\n",
       "      <td>25451</td>\n",
       "      <td>...</td>\n",
       "      <td>508903</td>\n",
       "      <td>1338801</td>\n",
       "      <td>504418</td>\n",
       "      <td>761054</td>\n",
       "      <td>3882806</td>\n",
       "      <td>528499</td>\n",
       "      <td>307064</td>\n",
       "      <td>2075968</td>\n",
       "      <td>750452</td>\n",
       "      <td>48833</td>\n",
       "    </tr>\n",
       "    <tr>\n",
       "      <th>no dependants</th>\n",
       "      <td>529348</td>\n",
       "      <td>8714</td>\n",
       "      <td>281395</td>\n",
       "      <td>2275441</td>\n",
       "      <td>36827</td>\n",
       "      <td>64461</td>\n",
       "      <td>645341</td>\n",
       "      <td>23602</td>\n",
       "      <td>204296</td>\n",
       "      <td>8000</td>\n",
       "      <td>...</td>\n",
       "      <td>165878</td>\n",
       "      <td>443904</td>\n",
       "      <td>166432</td>\n",
       "      <td>251020</td>\n",
       "      <td>1294376</td>\n",
       "      <td>171358</td>\n",
       "      <td>103328</td>\n",
       "      <td>690438</td>\n",
       "      <td>253382</td>\n",
       "      <td>15935</td>\n",
       "    </tr>\n",
       "  </tbody>\n",
       "</table>\n",
       "<p>2 rows × 21 columns</p>\n",
       "</div>"
      ],
      "text/plain": [
       "department_id               1      2       3        4       5       6   \\\n",
       "number_dependant_type                                                    \n",
       "dependant              1592383  25697  839433  6803832  107800  191530   \n",
       "no dependants           529348   8714  281395  2275441   36827   64461   \n",
       "\n",
       "department_id               7      8       9      10  ...      12       13  \\\n",
       "number_dependant_type                                 ...                    \n",
       "dependant              1926560  69458  617840  25451  ...  508903  1338801   \n",
       "no dependants           645341  23602  204296   8000  ...  165878   443904   \n",
       "\n",
       "department_id              14      15       16      17      18       19  \\\n",
       "number_dependant_type                                                     \n",
       "dependant              504418  761054  3882806  528499  307064  2075968   \n",
       "no dependants          166432  251020  1294376  171358  103328   690438   \n",
       "\n",
       "department_id              20     21  \n",
       "number_dependant_type                 \n",
       "dependant              750452  48833  \n",
       "no dependants          253382  15935  \n",
       "\n",
       "[2 rows x 21 columns]"
      ]
     },
     "execution_count": 86,
     "metadata": {},
     "output_type": "execute_result"
    }
   ],
   "source": [
    "dependant_profile"
   ]
  },
  {
   "cell_type": "code",
   "execution_count": 85,
   "id": "01c8d34d-b500-4489-b876-acb28ba9a945",
   "metadata": {},
   "outputs": [
    {
     "data": {
      "text/plain": [
       "<matplotlib.legend.Legend at 0x17ad2565fd0>"
      ]
     },
     "execution_count": 85,
     "metadata": {},
     "output_type": "execute_result"
    },
    {
     "data": {
      "image/png": "[encoded data removed]",
      "text/plain": [
       "<Figure size 1000x600 with 1 Axes>"
      ]
     },
     "metadata": {},
     "output_type": "display_data"
    }
   ],
   "source": [
    "create a stacked bar by dependant_type and department_id\n",
    "bar8 = dependant_profile.plot(kind='bar', stacked=True, figsize=(10, 6))\n",
    "plt.xlabel('Dependant_type')\n",
    "plt.ylabel('Count')\n",
    "plt.title('Departmental Preference: Dependant vs. No dependant')\n",
    "plt.legend(title='Department_id')"
   ]
  },
  {
   "cell_type": "code",
   "execution_count": 88,
   "id": "14cf06b0-7d00-471e-bd4a-76d9e646d0b5",
   "metadata": {},
   "outputs": [],
   "source": [
    "# Export chart\n",
    "bar8.figure.savefig(os.path.join(path, '04. Analysis','Visualizations', 'Departmental Preference: Dependant vs. No dependant.png'))"
   ]
  },
  {
   "cell_type": "code",
   "execution_count": 87,
   "id": "90396b33-3db4-4122-ad7e-652cffe214b3",
   "metadata": {},
   "outputs": [
    {
     "data": {
      "text/plain": [
       "department_id\n",
       "4     9079273\n",
       "16    5177182\n",
       "19    2766406\n",
       "7     2571901\n",
       "1     2121731\n",
       "13    1782705\n",
       "3     1120828\n",
       "15    1012074\n",
       "20    1003834\n",
       "9      822136\n",
       "17     699857\n",
       "12     674781\n",
       "14     670850\n",
       "11     424306\n",
       "18     410392\n",
       "6      255991\n",
       "5      144627\n",
       "8       93060\n",
       "21      64768\n",
       "2       34411\n",
       "10      33451\n",
       "Name: count, dtype: int64"
      ]
     },
     "execution_count": 87,
     "metadata": {},
     "output_type": "execute_result"
    }
   ],
   "source": [
    "df_merged_not_excluded['department_id'].value_counts()"
   ]
  },
  {
   "cell_type": "code",
   "execution_count": 90,
   "id": "a92f7ad8-1daa-4f00-9923-6ecfb839ba25",
   "metadata": {},
   "outputs": [
    {
     "data": {
      "text/plain": [
       "Text(0, 0.5, 'Count')"
      ]
     },
     "execution_count": 90,
     "metadata": {},
     "output_type": "execute_result"
    },
    {
     "data": {
      "image/png": "[encoded data removed]",
      "text/plain": [
       "<Figure size 1200x1000 with 1 Axes>"
      ]
     },
     "metadata": {},
     "output_type": "display_data"
    }
   ],
   "source": [
    "# create department id bar chart\n",
    "plt.figure(figsize = (12,10))\n",
    "bar9 = df_merged_not_excluded['department_id'].value_counts().plot.bar()\n",
    "plt.title('Preferred Department IDs')\n",
    "plt.ylabel('Count')"
   ]
  },
  {
   "cell_type": "code",
   "execution_count": 91,
   "id": "a1276cd7-3fbe-438d-8b14-a2df1fcdf169",
   "metadata": {},
   "outputs": [],
   "source": [
    "bar9.figure.savefig(os.path.join(path, '04. Analysis','Visualizations', 'preferred department_id.png'))"
   ]
  },
  {
   "cell_type": "code",
   "execution_count": null,
   "id": "ab4af8de-941a-4556-9842-12af34a3c0ef",
   "metadata": {},
   "outputs": [],
   "source": []
  },
  {
   "cell_type": "code",
   "execution_count": null,
   "id": "823e45d4-6ef5-4830-8534-ee466cae2bed",
   "metadata": {},
   "outputs": [],
   "source": []
  },
  {
   "cell_type": "code",
   "execution_count": null,
   "id": "aa7b9f8e-59bd-4987-a50b-5c99937dc3cf",
   "metadata": {},
   "outputs": [],
   "source": []
  }
 ],
 "metadata": {
  "kernelspec": {
   "display_name": "Python 3 (ipykernel)",
   "language": "python",
   "name": "python3"
  },
  "language_info": {
   "codemirror_mode": {
    "name": "ipython",
    "version": 3
   },
   "file_extension": ".py",
   "mimetype": "text/x-python",
   "name": "python",
   "nbconvert_exporter": "python",
   "pygments_lexer": "ipython3",
   "version": "3.11.7"
  }
 },
 "nbformat": 4,
 "nbformat_minor": 5
}
